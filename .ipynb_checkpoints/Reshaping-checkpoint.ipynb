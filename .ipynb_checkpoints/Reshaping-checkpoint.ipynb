{
 "cells": [
  {
   "cell_type": "markdown",
   "metadata": {
    "id": "6jYOK60-qgL0"
   },
   "source": [
    "<center><img src=\"https://i.imgur.com/zRrFdsf.png\" width=\"700\"></center>\n",
    "\n",
    "_____\n",
    "\n",
    "<a id='home'></a>\n",
    "\n",
    "# Reshaping\n",
    "\n",
    "<a target=\"_blank\" href=\"https://colab.research.google.com/github/CienciaDeDatosEspacial/reshaping/blob/main/Reshaping.ipynb\">\n",
    "  <img src=\"https://colab.research.google.com/assets/colab-badge.svg\" alt=\"Open In Colab\"/>\n",
    "</a>"
   ]
  },
  {
   "cell_type": "markdown",
   "metadata": {
    "id": "8GpiAyUIqgL2"
   },
   "source": [
    "\n",
    "\n",
    "Data frames have have different shapes. Let me use some columns from the data on fragility:"
   ]
  },
  {
   "cell_type": "code",
   "execution_count": null,
   "metadata": {
    "id": "SzfcOrcCqgL2",
    "outputId": "e60b7357-3daf-415d-91b3-40015b2b3728"
   },
   "outputs": [],
   "source": [
    "import os, pandas as pd\n",
    "\n",
    "FragilityAll=pd.read_csv('https://raw.githubusercontent.com/CienciaDeDatosEspacial/appending/main/Fragility.csv')\n",
    "\n",
    "#\n",
    "FragilityAll.head()"
   ]
  },
  {
   "cell_type": "markdown",
   "metadata": {},
   "source": [
    "Let me keep some variables:"
   ]
  },
  {
   "cell_type": "code",
   "execution_count": null,
   "metadata": {},
   "outputs": [],
   "source": [
    "keep=['Country','Year','C1_SecurityApparatus','C2_FactionalizedElites','C3_GroupGrievance']\n",
    "FragilitySome=FragilityAll.loc[:,keep].copy()"
   ]
  },
  {
   "cell_type": "markdown",
   "metadata": {},
   "source": [
    "This is a **long** shape:"
   ]
  },
  {
   "cell_type": "code",
   "execution_count": null,
   "metadata": {},
   "outputs": [],
   "source": [
    "# country names will repeat:\n",
    "FragilitySome.sort_values(by='Country')"
   ]
  },
  {
   "cell_type": "markdown",
   "metadata": {},
   "source": [
    "But, if I choose one year, I have a wide shape:"
   ]
  },
  {
   "cell_type": "code",
   "execution_count": null,
   "metadata": {},
   "outputs": [],
   "source": [
    "FragilitySome[FragilitySome.Year==2013]"
   ]
  },
  {
   "cell_type": "markdown",
   "metadata": {},
   "source": [
    "## From long to wide"
   ]
  },
  {
   "cell_type": "code",
   "execution_count": null,
   "metadata": {
    "id": "i7HrXq8ZqgL3",
    "outputId": "57b6cfa1-2b48-4b3b-df69-8c57a36c1b0b"
   },
   "outputs": [],
   "source": [
    "# to wide\n",
    "FragilitySome_W=pd.pivot_table(FragilitySome,\n",
    "                               index=['Country'], # unit of analysis\n",
    "                               columns=['Year']) # the values for NEW column\n",
    "\n",
    "FragilitySome_W"
   ]
  },
  {
   "cell_type": "markdown",
   "metadata": {},
   "source": [
    "Notice the column names:"
   ]
  },
  {
   "cell_type": "code",
   "execution_count": null,
   "metadata": {},
   "outputs": [],
   "source": [
    "FragilitySome_W.columns"
   ]
  },
  {
   "cell_type": "code",
   "execution_count": null,
   "metadata": {},
   "outputs": [],
   "source": [
    "#then\n",
    "FragilitySome_W.columns=['.'.join([col[0],str(col[1])]) for col in FragilitySome_W.columns]\n",
    "FragilitySome_W.head()"
   ]
  },
  {
   "cell_type": "markdown",
   "metadata": {},
   "source": [
    "As usual, you want the index as a column:"
   ]
  },
  {
   "cell_type": "code",
   "execution_count": null,
   "metadata": {},
   "outputs": [],
   "source": [
    "FragilitySome_W.reset_index(drop=False,inplace=True)\n",
    "FragilitySome_W"
   ]
  },
  {
   "cell_type": "markdown",
   "metadata": {
    "id": "jq-rF1RPqgL5"
   },
   "source": [
    "Long shape is efficient in the presence of missing values:"
   ]
  },
  {
   "cell_type": "code",
   "execution_count": null,
   "metadata": {
    "id": "vJ9TwsybqgL5",
    "outputId": "939623fc-6b70-4697-f642-1d477c90e719"
   },
   "outputs": [],
   "source": [
    "# missing values in long format\n",
    "FragilitySome[FragilitySome.isna().any(axis=1)]"
   ]
  },
  {
   "cell_type": "markdown",
   "metadata": {
    "id": "1qCyMTauqgL5"
   },
   "source": [
    "Wide shape will create missing values when needed:"
   ]
  },
  {
   "cell_type": "code",
   "execution_count": null,
   "metadata": {
    "id": "odnVR5RGqgL5",
    "outputId": "e36cb885-8033-4ef8-db7e-46ad0b4dd39f"
   },
   "outputs": [],
   "source": [
    "# what cells have missing values?\n",
    "FragilitySome_W[FragilitySome_W.isna().any(axis=1)]"
   ]
  },
  {
   "cell_type": "markdown",
   "metadata": {
    "id": "-BIaFN7aqgL5"
   },
   "source": [
    "This last request shows us problems.\n",
    "As you can see, even though the data DFs were prepared by the same organization, the DFs have country names that differ among them. Here we need some **manual** changes:"
   ]
  },
  {
   "cell_type": "code",
   "execution_count": null,
   "metadata": {
    "id": "dYw34jwaqgL5"
   },
   "outputs": [],
   "source": [
    "# prepare changes as dict:\n",
    "changes={\"CABO VERDE\": \"CAPE VERDE\",\n",
    "\"CZECHIA\":\"CZECH REPUBLIC\",\n",
    "\"SWAZILAND\":\"ESWATINI\",\n",
    "\"ISRAEL AND WEST BANK\":\"ISRAEL\",\n",
    "\"KYRGYZSTAN\":\"KYRGYZ REPUBLIC\",\n",
    "\"NORTH MACEDONIA\":\"MACEDONIA\",\n",
    "\"SLOVAKIA\": \"SLOVAK REPUBLIC\"}"
   ]
  },
  {
   "cell_type": "markdown",
   "metadata": {
    "id": "O_QjXqE7qgL5"
   },
   "source": [
    "Notice I am making the changes in the long shape of the DF, so that the wide shape will work fine:"
   ]
  },
  {
   "cell_type": "code",
   "execution_count": null,
   "metadata": {
    "id": "fEh1B01cqgL6"
   },
   "outputs": [],
   "source": [
    "# make changes using 'replace':\n",
    "FragilityAll.replace(to_replace={'Country':changes},inplace=True)\n",
    "\n",
    "# re saving\n",
    "\n",
    "FragilityAll.to_csv('Fragility_cleaner.csv',index=False)\n",
    "\n",
    "#then\n",
    "FragilitySome=FragilityAll.loc[:,keep].copy()"
   ]
  },
  {
   "cell_type": "markdown",
   "metadata": {
    "id": "u8iGIZGTqgL6"
   },
   "source": [
    "Let's redo the wide reshape:"
   ]
  },
  {
   "cell_type": "code",
   "execution_count": null,
   "metadata": {
    "id": "LfOnEa1OqgL6",
    "outputId": "95c49d24-0c6e-4d4c-ee47-e2b730c30991"
   },
   "outputs": [],
   "source": [
    "# to wide shape again\n",
    "FragilitySome_W=pd.pivot_table(FragilitySome,\n",
    "                               index=['Country'], # unit of analysis\n",
    "                               columns=['Year']) # the values for NEW column\n",
    "\n",
    "\n",
    "FragilitySome_W.columns=['.'.join([col[0],str(col[1])]) for col in FragilitySome_W.columns]\n",
    "# verify missing\n",
    "FragilitySome_W[FragilitySome_W.isna().any(axis=1)]"
   ]
  },
  {
   "cell_type": "markdown",
   "metadata": {
    "id": "i8LizAYiqgL6"
   },
   "source": [
    "You have to be very careful when working with countries, specially when you are including or excluding countries; which may cause you hurting someone else's feelings.\n",
    "\n",
    "For instance, here I am just keeping **rows** with no missing values:"
   ]
  },
  {
   "cell_type": "code",
   "execution_count": null,
   "metadata": {
    "id": "Z0XRAck4qgL6"
   },
   "outputs": [],
   "source": [
    "FragilitySome_W.dropna(inplace=True)\n",
    "FragilitySome_W"
   ]
  },
  {
   "cell_type": "markdown",
   "metadata": {},
   "source": [
    "## From wide to long"
   ]
  },
  {
   "cell_type": "code",
   "execution_count": null,
   "metadata": {},
   "outputs": [],
   "source": [
    "# we had\n",
    "FragilitySome2013=FragilitySome[FragilitySome.Year==2013]\n",
    "FragilitySome2013"
   ]
  },
  {
   "cell_type": "code",
   "execution_count": null,
   "metadata": {},
   "outputs": [],
   "source": [
    "#then\n",
    "pd.melt(FragilitySome2013,id_vars=['Country','Year'])"
   ]
  },
  {
   "cell_type": "markdown",
   "metadata": {},
   "source": [
    "...and back to the original:"
   ]
  },
  {
   "cell_type": "code",
   "execution_count": null,
   "metadata": {},
   "outputs": [],
   "source": [
    "FragilitySome2013_L=pd.melt(FragilitySome2013,id_vars=['Country','Year'])\n",
    "\n",
    "# to wide\n",
    "pd.pivot_table(FragilitySome2013_L,\n",
    "               index=['Country','Year'], # unit of analysis\n",
    "               columns=['variable']) # the values for NEW column"
   ]
  },
  {
   "cell_type": "markdown",
   "metadata": {},
   "source": [
    "This looks more complex:"
   ]
  },
  {
   "cell_type": "code",
   "execution_count": null,
   "metadata": {},
   "outputs": [],
   "source": [
    "FragilitySome_W"
   ]
  },
  {
   "cell_type": "markdown",
   "metadata": {},
   "source": [
    "The strategy (for pandas) will be to re create the multi index:"
   ]
  },
  {
   "cell_type": "code",
   "execution_count": null,
   "metadata": {},
   "outputs": [],
   "source": [
    "# currently:\n",
    "FragilitySome_W.columns"
   ]
  },
  {
   "cell_type": "code",
   "execution_count": null,
   "metadata": {},
   "outputs": [],
   "source": [
    "# new cols\n",
    "[tuple(col.split('.')) for col in FragilitySome_W.columns]"
   ]
  },
  {
   "cell_type": "code",
   "execution_count": null,
   "metadata": {},
   "outputs": [],
   "source": [
    "# making changes:\n",
    "\n",
    "colTuples=[tuple(col.split('.')) for col in FragilitySome_W.columns]\n",
    "pd.MultiIndex.from_tuples(colTuples, names=('variable', 'year'))"
   ]
  },
  {
   "cell_type": "markdown",
   "metadata": {},
   "source": [
    "Using the multiindex:"
   ]
  },
  {
   "cell_type": "code",
   "execution_count": null,
   "metadata": {},
   "outputs": [],
   "source": [
    "FragilitySome_W.columns=pd.MultiIndex.from_tuples(colTuples, names=('measure', 'year'))\n",
    "FragilitySome_W"
   ]
  },
  {
   "cell_type": "markdown",
   "metadata": {},
   "source": [
    "In this situation, melting is easy:"
   ]
  },
  {
   "cell_type": "code",
   "execution_count": null,
   "metadata": {},
   "outputs": [],
   "source": [
    "FragilitySome_W.melt(ignore_index = False)"
   ]
  }
 ],
 "metadata": {
  "colab": {
   "provenance": []
  },
  "hide_input": false,
  "kernelspec": {
   "display_name": "Python 3 (ipykernel)",
   "language": "python",
   "name": "python3"
  },
  "language_info": {
   "codemirror_mode": {
    "name": "ipython",
    "version": 3
   },
   "file_extension": ".py",
   "mimetype": "text/x-python",
   "name": "python",
   "nbconvert_exporter": "python",
   "pygments_lexer": "ipython3",
   "version": "3.11.5"
  }
 },
 "nbformat": 4,
 "nbformat_minor": 4
}
